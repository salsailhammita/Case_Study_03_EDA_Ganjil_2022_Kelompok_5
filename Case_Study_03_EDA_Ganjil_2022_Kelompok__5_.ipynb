{
  "nbformat": 4,
  "nbformat_minor": 0,
  "metadata": {
    "colab": {
      "provenance": [],
      "collapsed_sections": []
    },
    "kernelspec": {
      "name": "python3",
      "display_name": "Python 3"
    },
    "language_info": {
      "name": "python"
    }
  },
  "cells": [
    {
      "cell_type": "markdown",
      "source": [
        "# Kelompok 1 (Kelas 3A)\n",
        "\n",
        "1. Salsa Ilhammita (11210940000018)\n",
        "2. Reysia Amanda Yura (11210940000008)\n",
        "3. Azka Azzahra Khairiyah (11210940000012)\n",
        "4. Heny Rosyidatun Nafilah (11210940000016)\n",
        "5. Siti Nurcholisah Dwi Rizky (11210940000009)\n",
        "6. Becky Karlina Sindy (11210940000013)"
      ],
      "metadata": {
        "id": "0MDaW1BpYhDk"
      }
    },
    {
      "cell_type": "code",
      "source": [
        "import numpy as np\n",
        "import pandas as pd\n",
        "import matplotlib as mp\n",
        "import seaborn as sns\n",
        "import matplotlib.pyplot as plt\n",
        "import matplotlib.cm as cm\n",
        "import missingno"
      ],
      "metadata": {
        "id": "XKWn2tGjqduT"
      },
      "execution_count": 118,
      "outputs": []
    },
    {
      "cell_type": "code",
      "execution_count": null,
      "metadata": {
        "id": "yzH1g0TKX8Oq"
      },
      "outputs": [],
      "source": [
        "# Loading Data:\n",
        "\n",
        "try: # Running Locally, yakinkan \"file_\" berada di folder \"data\"\n",
        "    dfJ = pd.read_csv(\"data/jakarta.csv\", low_memory = False, encoding='utf8')\n",
        "    dfD = pd.read_csv(\"data/depok.csv\", low_memory = False, encoding='utf8')\n",
        "    dfT = pd.read_csv(\"data/tangerang.csv\", low_memory = False, encoding='utf8')\n",
        "except: # Running in Google Colab\n",
        "    !mkdir data\n",
        "    !wget -P data/ https://raw.githubusercontent.com/taufiksutanto/EDA-Case-01-PreProcessing/master/data/jakarta.csv\n",
        "    !wget -P data/ https://raw.githubusercontent.com/taufiksutanto/EDA-Case-01-PreProcessing/master/data/depok.csv\n",
        "    !wget -P data/ https://raw.githubusercontent.com/taufiksutanto/EDA-Case-01-PreProcessing/master/data/tangerang.csv\n",
        "    dfJ = pd.read_csv(\"data/jakarta.csv\", low_memory = False, encoding='utf8')\n",
        "    dfD = pd.read_csv(\"data/depok.csv\", low_memory = False, encoding='utf8')\n",
        "    dfT = pd.read_csv(\"data/tangerang.csv\", low_memory = False, encoding='utf8')\n",
        "    \n",
        "dfJ.shape, dfD.shape, dfT.shape"
      ]
    },
    {
      "cell_type": "code",
      "source": [
        "dfJ"
      ],
      "metadata": {
        "id": "hn0_JP6SYQ4s"
      },
      "execution_count": null,
      "outputs": []
    },
    {
      "cell_type": "code",
      "source": [
        "# Mengganti type data yang kurang tepat saat dibaca oleh python\n",
        "dfJ['garasi'] = dfJ['garasi'].astype('category')\n",
        "dfJ['carport'] = dfJ['carport'].astype('category')\n",
        "dfJ['lokasi'] = dfJ['lokasi'].astype('category')\n",
        "dfJ['sertifikat'] = dfJ['sertifikat'].astype('category')\n",
        "dfJ['hadap'] = dfJ['hadap'].astype('category')\n",
        "dfJ.dtypes"
      ],
      "metadata": {
        "id": "fac25StC3KTg"
      },
      "execution_count": null,
      "outputs": []
    },
    {
      "cell_type": "code",
      "source": [
        "dfD"
      ],
      "metadata": {
        "id": "5V0wqwusYzcL"
      },
      "execution_count": null,
      "outputs": []
    },
    {
      "cell_type": "code",
      "source": [
        "# Mengganti type data yang kurang tepat saat dibaca oleh python\n",
        "dfD['garasi'] = dfD['garasi'].astype('category')\n",
        "dfD['carport'] = dfD['carport'].astype('category')\n",
        "dfD['lokasi'] = dfD['lokasi'].astype('category')\n",
        "dfD['sertifikat'] = dfD['sertifikat'].astype('category')\n",
        "dfD['hadap'] = dfD['hadap'].astype('category')\n",
        "dfD.dtypes"
      ],
      "metadata": {
        "id": "Ms1YptQn8slp"
      },
      "execution_count": null,
      "outputs": []
    },
    {
      "cell_type": "code",
      "source": [
        "dfT"
      ],
      "metadata": {
        "id": "UJN08CnGY17r"
      },
      "execution_count": null,
      "outputs": []
    },
    {
      "cell_type": "code",
      "source": [
        "# Mengganti type data yang kurang tepat saat dibaca oleh python\n",
        "dfT['garasi'] = dfT['garasi'].astype('category')\n",
        "dfT['carport'] = dfT['carport'].astype('category')\n",
        "dfT['lokasi'] = dfT['lokasi'].astype('category')\n",
        "dfT['sertifikat'] = dfT['sertifikat'].astype('category')\n",
        "dfT['hadap'] = dfT['hadap'].astype('category')\n",
        "dfT.dtypes"
      ],
      "metadata": {
        "id": "SUe3Trsz89Ah"
      },
      "execution_count": null,
      "outputs": []
    },
    {
      "cell_type": "markdown",
      "source": [
        "# **A. Gabungkan Data dfJ dan dfD**"
      ],
      "metadata": {
        "id": "FnTlcJ6teVox"
      }
    },
    {
      "cell_type": "code",
      "source": [
        "JD = pd.concat([dfJ, dfD])\n",
        "JD"
      ],
      "metadata": {
        "id": "EP4L4e_Kn0zs"
      },
      "execution_count": null,
      "outputs": []
    },
    {
      "cell_type": "code",
      "source": [
        "JT = pd.concat([JD, dfT])\n",
        "JT"
      ],
      "metadata": {
        "id": "oToKfg_wpm-T"
      },
      "execution_count": null,
      "outputs": []
    },
    {
      "cell_type": "markdown",
      "source": [
        "# **Preprocessing**"
      ],
      "metadata": {
        "id": "tkoRfAvzcz8T"
      }
    },
    {
      "cell_type": "markdown",
      "source": [
        "#1. Missing Value"
      ],
      "metadata": {
        "id": "dr7li9Grq4fS"
      }
    },
    {
      "cell_type": "code",
      "source": [
        "JT.isnull().sum()"
      ],
      "metadata": {
        "id": "LIXN3ViWpS-4"
      },
      "execution_count": null,
      "outputs": []
    },
    {
      "cell_type": "code",
      "source": [
        "#Menampilkan Persebaran Missing Value pada Data di PT RPPI\n",
        "missingno.matrix(JD, figsize= (16, 5), fontsize=12 )"
      ],
      "metadata": {
        "id": "IZnYgj-ap4q3"
      },
      "execution_count": null,
      "outputs": []
    },
    {
      "cell_type": "markdown",
      "source": [
        "**Interpretasi**\n",
        "\n",
        "Pada visualisasi di atas, data pada garasi dan hadap lebih dominan NaN di bandingkan data lainnya, terdapat pula missing value di unnamed 14-15. Oleh karena itu, kita akan menggunakan  drop untuk menghilangkan kolom unnamed 14-25"
      ],
      "metadata": {
        "id": "MnQnGjibqACg"
      }
    },
    {
      "cell_type": "code",
      "source": [
        "MV = JT.dropna(axis=1, how='all')\n",
        "MV"
      ],
      "metadata": {
        "id": "C7OtH2Rooxy4"
      },
      "execution_count": null,
      "outputs": []
    },
    {
      "cell_type": "code",
      "source": [
        "JT.info()"
      ],
      "metadata": {
        "id": "C0CfTeiDrSt0"
      },
      "execution_count": null,
      "outputs": []
    },
    {
      "cell_type": "code",
      "source": [
        "# Mengganti type data yang kurang tepat saat dibaca oleh python\n",
        "JT['garasi'] = JT['garasi'].astype('category')\n",
        "JT['carport'] = JT['carport'].astype('category')\n",
        "JT['lokasi'] = JT['lokasi'].astype('category')\n",
        "JT['sertifikat'] = JT['sertifikat'].astype('category')\n",
        "JT['hadap'] = JT['hadap'].astype('category')\n",
        "JT.dtypes"
      ],
      "metadata": {
        "id": "VDlAFBJy1maC"
      },
      "execution_count": null,
      "outputs": []
    },
    {
      "cell_type": "code",
      "source": [
        "mean = MV[\"harga\"].mean()\n",
        "MV[\"harga\"] = MV[\"harga\"].replace(np.nan, mean)\n",
        "MV"
      ],
      "metadata": {
        "id": "f6Y0eSmbvEUb"
      },
      "execution_count": null,
      "outputs": []
    },
    {
      "cell_type": "markdown",
      "source": [
        "#2. Duplicated Data"
      ],
      "metadata": {
        "id": "QmLKtZ25rpOe"
      }
    },
    {
      "cell_type": "markdown",
      "source": [
        "Mengecek data duplikat "
      ],
      "metadata": {
        "id": "9B93bkD4tvoS"
      }
    },
    {
      "cell_type": "code",
      "source": [
        "print(MV.shape)\n",
        "MV.duplicated().sum() #melihat jumlah duplicated data pada JD (Data Gabungan Jakarta Depok)"
      ],
      "metadata": {
        "id": "v8EwQwSWsVHd"
      },
      "execution_count": null,
      "outputs": []
    },
    {
      "cell_type": "markdown",
      "source": [
        "Karena adanya duplikat data pada Data JD maka dilakukan drop data untuk menghilangkan data yang duplikat"
      ],
      "metadata": {
        "id": "Ewy4XivWt3TH"
      }
    },
    {
      "cell_type": "code",
      "source": [
        "#menghapus entri yang memiliki data duplikat \n",
        "MV.drop_duplicates(inplace=True)\n",
        "print(MV.duplicated().sum()) # menghitung jumlah data yang duplikat\n",
        "print(MV.shape) # re-check by printing data size"
      ],
      "metadata": {
        "id": "h8VqpD_osHlV"
      },
      "execution_count": null,
      "outputs": []
    },
    {
      "cell_type": "markdown",
      "source": [
        "#3. Outlier"
      ],
      "metadata": {
        "id": "V0kfp7RGsd6W"
      }
    },
    {
      "cell_type": "code",
      "source": [
        "#outlier pada kolom wind_speed\n",
        "# Deteksi Outlier menggunakan nilai IQR\n",
        "\n",
        "Q1 = MV.harga.quantile(0.25)\n",
        "Q3 = MV.harga.quantile(0.75)\n",
        "IQR = Q3 - Q1\n",
        "print('Q1 =', Q1)\n",
        "print('Q2 =', Q3)\n",
        "print('IQR =', IQR)"
      ],
      "metadata": {
        "id": "S7KoaMXNsdOE"
      },
      "execution_count": null,
      "outputs": []
    },
    {
      "cell_type": "code",
      "source": [
        "# Menentukan batas bawah dan batas atas\n",
        "\n",
        "batasBawah = Q1 - (1.5 * IQR)\n",
        "batasAtas = Q3 + (1.5 * IQR)\n",
        "print('batas bawah =', batasBawah)\n",
        "print('batas atas =', batasAtas)"
      ],
      "metadata": {
        "id": "MYPY3FXEyF0p"
      },
      "execution_count": null,
      "outputs": []
    },
    {
      "cell_type": "code",
      "source": [
        "#Mengecek outlier menggunakan visualisasi boxplot\n",
        "fig, ax = plt.subplots(figsize = (15,4))\n",
        "sns.boxplot(x = MV.harga).set_title('Harga Boxplot')"
      ],
      "metadata": {
        "id": "bFyTbnC8yLIQ"
      },
      "execution_count": null,
      "outputs": []
    },
    {
      "cell_type": "code",
      "source": [
        "# Deteksi Outlier menggunakan nilai IQR\n",
        "Q1 = MV.harga.quantile(0.25)\n",
        "Q3 = MV.harga.quantile(0.75)\n",
        "IQR = Q3 - Q1\n",
        "print('Q1 =', Q1)\n",
        "print('Q2 =', Q3)\n",
        "print('IQR =', IQR)"
      ],
      "metadata": {
        "id": "y-fvhoAAyLJi"
      },
      "execution_count": null,
      "outputs": []
    },
    {
      "cell_type": "code",
      "source": [
        "# Menentukan batas bawah dan batas atas\n",
        "\n",
        "batasBawah = Q1 - (1.5 * IQR)\n",
        "batasAtas = Q3 + (1.5 * IQR)\n",
        "print('batas bawah =', batasBawah)\n",
        "print('batas atas =', batasAtas)"
      ],
      "metadata": {
        "id": "4CbpwCORydWL"
      },
      "execution_count": null,
      "outputs": []
    },
    {
      "cell_type": "code",
      "source": [
        "# handle outlier dengan replace menggantinya dengan nilai mean\n",
        "\n",
        "MV['harga'] = MV.harga.mask(MV.harga > batasAtas, MV.harga.mean())\n",
        "MV['harga'] = MV.harga.mask(MV.harga < batasBawah, MV.harga.mean())\n",
        "fig, ax = plt.subplots(figsize = (15,7))\n",
        "fig = sns.boxplot(x = MV.harga).set_title('Harga Boxplot')"
      ],
      "metadata": {
        "id": "PoyHBF-SyhVD"
      },
      "execution_count": null,
      "outputs": []
    },
    {
      "cell_type": "code",
      "source": [],
      "metadata": {
        "id": "62OIW32yzDMj"
      },
      "execution_count": null,
      "outputs": []
    },
    {
      "cell_type": "markdown",
      "source": [
        "#4. Statistika Deskriptif"
      ],
      "metadata": {
        "id": "kGCUgwFts89z"
      }
    },
    {
      "cell_type": "code",
      "source": [
        "# Statistika Sederhana dari data \"Numerik\"-nya\n",
        "MV.describe(include='all')"
      ],
      "metadata": {
        "id": "W3EmmLlgtCpD"
      },
      "execution_count": null,
      "outputs": []
    },
    {
      "cell_type": "markdown",
      "source": [
        "# **B. Gabungkan Data dfJ dan dfT**"
      ],
      "metadata": {
        "id": "Apvqjj8spuHu"
      }
    },
    {
      "cell_type": "code",
      "source": [
        "JT = pd.concat([dfJ, dfT])\n",
        "JT"
      ],
      "metadata": {
        "id": "TOOBFhF7Y_fl"
      },
      "execution_count": null,
      "outputs": []
    },
    {
      "cell_type": "markdown",
      "source": [
        "#1. Missing Value"
      ],
      "metadata": {
        "id": "umh2nPNszYAt"
      }
    },
    {
      "cell_type": "code",
      "source": [
        "JT.isnull().sum()"
      ],
      "metadata": {
        "id": "t-JFoSs0pgLt"
      },
      "execution_count": null,
      "outputs": []
    },
    {
      "cell_type": "markdown",
      "source": [
        "Karena pada Unnamed14-25 terdapat lebih dari 50% Missing Value maka kita hilangkan kolom Unnamed14-25 tersebut menggunakan drop\n"
      ],
      "metadata": {
        "id": "fS7xLosVp2p_"
      }
    },
    {
      "cell_type": "code",
      "source": [
        "MK = JT.dropna(axis=1, how='all')\n",
        "MK"
      ],
      "metadata": {
        "id": "TBYjz3h-pCWH"
      },
      "execution_count": null,
      "outputs": []
    },
    {
      "cell_type": "markdown",
      "source": [
        "#2. Duplicate Data"
      ],
      "metadata": {
        "id": "yGbKs88CzSGf"
      }
    },
    {
      "cell_type": "code",
      "source": [
        "print(MK.shape)\n",
        "MK.duplicated().sum() #melihat jumlah duplicated data pada Data JT (Gabungan data Jakarta Tangerang)"
      ],
      "metadata": {
        "id": "-olgU4wwtTTJ"
      },
      "execution_count": null,
      "outputs": []
    },
    {
      "cell_type": "code",
      "source": [
        "#menghapus entri yang memiliki data duplikat \n",
        "MK.drop_duplicates(inplace=True)\n",
        "print(MK.duplicated().sum()) # menghitung jumlah data yang duplikat\n",
        "print(MK.shape) # re-check by printing data size"
      ],
      "metadata": {
        "id": "NTP_7lDSvC3L"
      },
      "execution_count": null,
      "outputs": []
    },
    {
      "cell_type": "markdown",
      "source": [
        "#3. Outlier"
      ],
      "metadata": {
        "id": "KCEgOl1nzcPe"
      }
    },
    {
      "cell_type": "markdown",
      "source": [
        "a. Outlier pada kolom harga"
      ],
      "metadata": {
        "id": "PMjLdGkpzoFs"
      }
    },
    {
      "cell_type": "code",
      "source": [
        "fig, ax = plt.subplots(figsize = (14,6))\n",
        "sns.boxplot(x = MK.harga).set_title('Harga')"
      ],
      "metadata": {
        "id": "vrIdqAmbzp9Y",
        "outputId": "ece977a2-db6a-4777-b01a-43861e2b89f5",
        "colab": {
          "base_uri": "https://localhost:8080/",
          "height": 421
        }
      },
      "execution_count": 130,
      "outputs": [
        {
          "output_type": "execute_result",
          "data": {
            "text/plain": [
              "Text(0.5, 1.0, 'Harga')"
            ]
          },
          "metadata": {},
          "execution_count": 130
        },
        {
          "output_type": "display_data",
          "data": {
            "text/plain": [
              "<Figure size 1008x432 with 1 Axes>"
            ],
            "image/png": "[encoded data removed]"
          },
          "metadata": {
            "needs_background": "light"
          }
        }
      ]
    },
    {
      "cell_type": "code",
      "source": [
        "# Deteksi Outlier menggunakan nilai IQR\n",
        "\n",
        "Q1 = MK.harga.quantile(0.25)\n",
        "Q3 = MK.harga.quantile(0.75)\n",
        "IQR = Q3 - Q1\n",
        "print('Q1 =', Q1)\n",
        "print('Q2 =', Q3)\n",
        "print('IQR =', IQR)"
      ],
      "metadata": {
        "id": "taZNAUvf0Q9O",
        "outputId": "32b485a6-00f0-4269-f43f-d00a038441a1",
        "colab": {
          "base_uri": "https://localhost:8080/"
        }
      },
      "execution_count": 129,
      "outputs": [
        {
          "output_type": "stream",
          "name": "stdout",
          "text": [
            "Q1 = 1950.0\n",
            "Q2 = 3400000000.0\n",
            "IQR = 3399998050.0\n"
          ]
        }
      ]
    },
    {
      "cell_type": "code",
      "source": [
        "# Menentukan batas bawah dan batas atas\n",
        "\n",
        "batasBawah = Q1 - (1.5 * IQR)\n",
        "batasAtas = Q3 + (1.5 * IQR)\n",
        "print('batas bawah =', batasBawah)\n",
        "print('batas atas =', batasAtas)"
      ],
      "metadata": {
        "id": "yZyVxvh_0ZKc",
        "outputId": "acc0dec0-f550-46a3-fe29-c0910ac613ab",
        "colab": {
          "base_uri": "https://localhost:8080/"
        }
      },
      "execution_count": 128,
      "outputs": [
        {
          "output_type": "stream",
          "name": "stdout",
          "text": [
            "batas bawah = -5099995125.0\n",
            "batas atas = 8499997075.0\n"
          ]
        }
      ]
    },
    {
      "cell_type": "code",
      "source": [
        "# handle outlier dengan replace menggantinya dengan nilai mean\n",
        "\n",
        "MK['Harga'] = MK.harga.mask(MK.harga > batasAtas, MK.harga.mean())\n",
        "MK['Harga'] = MK.harga.mask(MK.harga < batasBawah, MK.harga.mean())\n",
        "fig, ax = plt.subplots(figsize = (15,7))\n",
        "fig = sns.boxplot(x = MK.harga).set_title('Hargat Boxplot')"
      ],
      "metadata": {
        "id": "vduRAam10cIk",
        "outputId": "1105fb06-b78d-49d9-a097-c4b230db6508",
        "colab": {
          "base_uri": "https://localhost:8080/",
          "height": 666
        }
      },
      "execution_count": 127,
      "outputs": [
        {
          "output_type": "stream",
          "name": "stderr",
          "text": [
            "/usr/local/lib/python3.7/dist-packages/ipykernel_launcher.py:3: SettingWithCopyWarning: \n",
            "A value is trying to be set on a copy of a slice from a DataFrame.\n",
            "Try using .loc[row_indexer,col_indexer] = value instead\n",
            "\n",
            "See the caveats in the documentation: https://pandas.pydata.org/pandas-docs/stable/user_guide/indexing.html#returning-a-view-versus-a-copy\n",
            "  This is separate from the ipykernel package so we can avoid doing imports until\n",
            "/usr/local/lib/python3.7/dist-packages/ipykernel_launcher.py:4: SettingWithCopyWarning: \n",
            "A value is trying to be set on a copy of a slice from a DataFrame.\n",
            "Try using .loc[row_indexer,col_indexer] = value instead\n",
            "\n",
            "See the caveats in the documentation: https://pandas.pydata.org/pandas-docs/stable/user_guide/indexing.html#returning-a-view-versus-a-copy\n",
            "  after removing the cwd from sys.path.\n"
          ]
        },
        {
          "output_type": "display_data",
          "data": {
            "text/plain": [
              "<Figure size 1080x504 with 1 Axes>"
            ],
            "image/png": "[encoded data removed]"
          },
          "metadata": {
            "needs_background": "light"
          }
        }
      ]
    },
    {
      "cell_type": "markdown",
      "source": [
        "#4. Statistika Deskriptif"
      ],
      "metadata": {
        "id": "SJFGgA2Kzeu2"
      }
    },
    {
      "cell_type": "code",
      "source": [
        "\n",
        "MK.describe()"
      ],
      "metadata": {
        "colab": {
          "base_uri": "https://localhost:8080/",
          "height": 300
        },
        "id": "Z3a5_M4e102K",
        "outputId": "bf94dff2-0285-4cb2-b9c8-1cef7f19812d"
      },
      "execution_count": 126,
      "outputs": [
        {
          "output_type": "execute_result",
          "data": {
            "text/plain": [
              "                LT           LB          KT          KM     garasi  \\\n",
              "count   245.000000   245.000000  245.000000  245.000000  82.000000   \n",
              "mean    224.844898   239.004082    3.804082    3.032653   2.024390   \n",
              "std     329.023469   277.110345    1.612701    1.549377   1.684905   \n",
              "min      16.000000    21.000000    1.000000    1.000000   1.000000   \n",
              "25%      90.000000    88.000000    3.000000    2.000000   1.000000   \n",
              "50%     144.000000   154.000000    3.000000    3.000000   1.500000   \n",
              "75%     250.000000   300.000000    5.000000    4.000000   2.000000   \n",
              "max    3422.000000  2500.000000   10.000000   10.000000  10.000000   \n",
              "\n",
              "          carport       listrik         harga         Harga  \n",
              "count  182.000000    231.000000  2.450000e+02  2.450000e+02  \n",
              "mean     1.780220   4722.077922  4.437963e+09  4.437963e+09  \n",
              "std      1.360876   7389.109908  1.200940e+10  1.200940e+10  \n",
              "min      1.000000    900.000000  9.500000e+01  9.500000e+01  \n",
              "25%      1.000000   2200.000000  1.950000e+03  1.950000e+03  \n",
              "50%      1.000000   2200.000000  1.550000e+04  1.550000e+04  \n",
              "75%      2.000000   4400.000000  3.400000e+09  3.400000e+09  \n",
              "max     10.000000  66000.000000  1.050000e+11  1.050000e+11  "
            ],
            "text/html": [
              "\n",
              "  <div id=\"df-9d3ad735-bc92-4909-9db8-a84c955a8eb9\">\n",
              "    <div class=\"colab-df-container\">\n",
              "      <div>\n",
              "<style scoped>\n",
              "    .dataframe tbody tr th:only-of-type {\n",
              "        vertical-align: middle;\n",
              "    }\n",
              "\n",
              "    .dataframe tbody tr th {\n",
              "        vertical-align: top;\n",
              "    }\n",
              "\n",
              "    .dataframe thead th {\n",
              "        text-align: right;\n",
              "    }\n",
              "</style>\n",
              "<table border=\"1\" class=\"dataframe\">\n",
              "  <thead>\n",
              "    <tr style=\"text-align: right;\">\n",
              "      <th></th>\n",
              "      <th>LT</th>\n",
              "      <th>LB</th>\n",
              "      <th>KT</th>\n",
              "      <th>KM</th>\n",
              "      <th>garasi</th>\n",
              "      <th>carport</th>\n",
              "      <th>listrik</th>\n",
              "      <th>harga</th>\n",
              "      <th>Harga</th>\n",
              "    </tr>\n",
              "  </thead>\n",
              "  <tbody>\n",
              "    <tr>\n",
              "      <th>count</th>\n",
              "      <td>245.000000</td>\n",
              "      <td>245.000000</td>\n",
              "      <td>245.000000</td>\n",
              "      <td>245.000000</td>\n",
              "      <td>82.000000</td>\n",
              "      <td>182.000000</td>\n",
              "      <td>231.000000</td>\n",
              "      <td>2.450000e+02</td>\n",
              "      <td>2.450000e+02</td>\n",
              "    </tr>\n",
              "    <tr>\n",
              "      <th>mean</th>\n",
              "      <td>224.844898</td>\n",
              "      <td>239.004082</td>\n",
              "      <td>3.804082</td>\n",
              "      <td>3.032653</td>\n",
              "      <td>2.024390</td>\n",
              "      <td>1.780220</td>\n",
              "      <td>4722.077922</td>\n",
              "      <td>4.437963e+09</td>\n",
              "      <td>4.437963e+09</td>\n",
              "    </tr>\n",
              "    <tr>\n",
              "      <th>std</th>\n",
              "      <td>329.023469</td>\n",
              "      <td>277.110345</td>\n",
              "      <td>1.612701</td>\n",
              "      <td>1.549377</td>\n",
              "      <td>1.684905</td>\n",
              "      <td>1.360876</td>\n",
              "      <td>7389.109908</td>\n",
              "      <td>1.200940e+10</td>\n",
              "      <td>1.200940e+10</td>\n",
              "    </tr>\n",
              "    <tr>\n",
              "      <th>min</th>\n",
              "      <td>16.000000</td>\n",
              "      <td>21.000000</td>\n",
              "      <td>1.000000</td>\n",
              "      <td>1.000000</td>\n",
              "      <td>1.000000</td>\n",
              "      <td>1.000000</td>\n",
              "      <td>900.000000</td>\n",
              "      <td>9.500000e+01</td>\n",
              "      <td>9.500000e+01</td>\n",
              "    </tr>\n",
              "    <tr>\n",
              "      <th>25%</th>\n",
              "      <td>90.000000</td>\n",
              "      <td>88.000000</td>\n",
              "      <td>3.000000</td>\n",
              "      <td>2.000000</td>\n",
              "      <td>1.000000</td>\n",
              "      <td>1.000000</td>\n",
              "      <td>2200.000000</td>\n",
              "      <td>1.950000e+03</td>\n",
              "      <td>1.950000e+03</td>\n",
              "    </tr>\n",
              "    <tr>\n",
              "      <th>50%</th>\n",
              "      <td>144.000000</td>\n",
              "      <td>154.000000</td>\n",
              "      <td>3.000000</td>\n",
              "      <td>3.000000</td>\n",
              "      <td>1.500000</td>\n",
              "      <td>1.000000</td>\n",
              "      <td>2200.000000</td>\n",
              "      <td>1.550000e+04</td>\n",
              "      <td>1.550000e+04</td>\n",
              "    </tr>\n",
              "    <tr>\n",
              "      <th>75%</th>\n",
              "      <td>250.000000</td>\n",
              "      <td>300.000000</td>\n",
              "      <td>5.000000</td>\n",
              "      <td>4.000000</td>\n",
              "      <td>2.000000</td>\n",
              "      <td>2.000000</td>\n",
              "      <td>4400.000000</td>\n",
              "      <td>3.400000e+09</td>\n",
              "      <td>3.400000e+09</td>\n",
              "    </tr>\n",
              "    <tr>\n",
              "      <th>max</th>\n",
              "      <td>3422.000000</td>\n",
              "      <td>2500.000000</td>\n",
              "      <td>10.000000</td>\n",
              "      <td>10.000000</td>\n",
              "      <td>10.000000</td>\n",
              "      <td>10.000000</td>\n",
              "      <td>66000.000000</td>\n",
              "      <td>1.050000e+11</td>\n",
              "      <td>1.050000e+11</td>\n",
              "    </tr>\n",
              "  </tbody>\n",
              "</table>\n",
              "</div>\n",
              "      <button class=\"colab-df-convert\" onclick=\"convertToInteractive('df-9d3ad735-bc92-4909-9db8-a84c955a8eb9')\"\n",
              "              title=\"Convert this dataframe to an interactive table.\"\n",
              "              style=\"display:none;\">\n",
              "        \n",
              "  <svg xmlns=\"http://www.w3.org/2000/svg\" height=\"24px\"viewBox=\"0 0 24 24\"\n",
              "       width=\"24px\">\n",
              "    <path d=\"M0 0h24v24H0V0z\" fill=\"none\"/>\n",
              "    <path d=\"M18.56 5.44l.94 2.06.94-2.06 2.06-.94-2.06-.94-.94-2.06-.94 2.06-2.06.94zm-11 1L8.5 8.5l.94-2.06 2.06-.94-2.06-.94L8.5 2.5l-.94 2.06-2.06.94zm10 10l.94 2.06.94-2.06 2.06-.94-2.06-.94-.94-2.06-.94 2.06-2.06.94z\"/><path d=\"M17.41 7.96l-1.37-1.37c-.4-.4-.92-.59-1.43-.59-.52 0-1.04.2-1.43.59L10.3 9.45l-7.72 7.72c-.78.78-.78 2.05 0 2.83L4 21.41c.39.39.9.59 1.41.59.51 0 1.02-.2 1.41-.59l7.78-7.78 2.81-2.81c.8-.78.8-2.07 0-2.86zM5.41 20L4 18.59l7.72-7.72 1.47 1.35L5.41 20z\"/>\n",
              "  </svg>\n",
              "      </button>\n",
              "      \n",
              "  <style>\n",
              "    .colab-df-container {\n",
              "      display:flex;\n",
              "      flex-wrap:wrap;\n",
              "      gap: 12px;\n",
              "    }\n",
              "\n",
              "    .colab-df-convert {\n",
              "      background-color: #E8F0FE;\n",
              "      border: none;\n",
              "      border-radius: 50%;\n",
              "      cursor: pointer;\n",
              "      display: none;\n",
              "      fill: #1967D2;\n",
              "      height: 32px;\n",
              "      padding: 0 0 0 0;\n",
              "      width: 32px;\n",
              "    }\n",
              "\n",
              "    .colab-df-convert:hover {\n",
              "      background-color: #E2EBFA;\n",
              "      box-shadow: 0px 1px 2px rgba(60, 64, 67, 0.3), 0px 1px 3px 1px rgba(60, 64, 67, 0.15);\n",
              "      fill: #174EA6;\n",
              "    }\n",
              "\n",
              "    [theme=dark] .colab-df-convert {\n",
              "      background-color: #3B4455;\n",
              "      fill: #D2E3FC;\n",
              "    }\n",
              "\n",
              "    [theme=dark] .colab-df-convert:hover {\n",
              "      background-color: #434B5C;\n",
              "      box-shadow: 0px 1px 3px 1px rgba(0, 0, 0, 0.15);\n",
              "      filter: drop-shadow(0px 1px 2px rgba(0, 0, 0, 0.3));\n",
              "      fill: #FFFFFF;\n",
              "    }\n",
              "  </style>\n",
              "\n",
              "      <script>\n",
              "        const buttonEl =\n",
              "          document.querySelector('#df-9d3ad735-bc92-4909-9db8-a84c955a8eb9 button.colab-df-convert');\n",
              "        buttonEl.style.display =\n",
              "          google.colab.kernel.accessAllowed ? 'block' : 'none';\n",
              "\n",
              "        async function convertToInteractive(key) {\n",
              "          const element = document.querySelector('#df-9d3ad735-bc92-4909-9db8-a84c955a8eb9');\n",
              "          const dataTable =\n",
              "            await google.colab.kernel.invokeFunction('convertToInteractive',\n",
              "                                                     [key], {});\n",
              "          if (!dataTable) return;\n",
              "\n",
              "          const docLinkHtml = 'Like what you see? Visit the ' +\n",
              "            '<a target=\"_blank\" href=https://colab.research.google.com/notebooks/data_table.ipynb>data table notebook</a>'\n",
              "            + ' to learn more about interactive tables.';\n",
              "          element.innerHTML = '';\n",
              "          dataTable['output_type'] = 'display_data';\n",
              "          await google.colab.output.renderOutput(dataTable, element);\n",
              "          const docLink = document.createElement('div');\n",
              "          docLink.innerHTML = docLinkHtml;\n",
              "          element.appendChild(docLink);\n",
              "        }\n",
              "      </script>\n",
              "    </div>\n",
              "  </div>\n",
              "  "
            ]
          },
          "metadata": {},
          "execution_count": 126
        }
      ]
    },
    {
      "cell_type": "code",
      "source": [
        "# Statistika Sederhana dari data \"Numerik\"-nya\n",
        "MK.describe(include='all')"
      ],
      "metadata": {
        "colab": {
          "base_uri": "https://localhost:8080/",
          "height": 545
        },
        "id": "l1ROOcIe1yXz",
        "outputId": "88a8fd3f-b8b7-427e-ab27-8fbe425451ca"
      },
      "execution_count": 125,
      "outputs": [
        {
          "output_type": "execute_result",
          "data": {
            "text/plain": [
              "        created_at           LT           LB          KT          KM  \\\n",
              "count          245   245.000000   245.000000  245.000000  245.000000   \n",
              "unique          22          NaN          NaN         NaN         NaN   \n",
              "top     12-06-2021          NaN          NaN         NaN         NaN   \n",
              "freq           102          NaN          NaN         NaN         NaN   \n",
              "mean           NaN   224.844898   239.004082    3.804082    3.032653   \n",
              "std            NaN   329.023469   277.110345    1.612701    1.549377   \n",
              "min            NaN    16.000000    21.000000    1.000000    1.000000   \n",
              "25%            NaN    90.000000    88.000000    3.000000    2.000000   \n",
              "50%            NaN   144.000000   154.000000    3.000000    3.000000   \n",
              "75%            NaN   250.000000   300.000000    5.000000    4.000000   \n",
              "max            NaN  3422.000000  2500.000000   10.000000   10.000000   \n",
              "\n",
              "           garasi     carport          lokasi sertifikat       listrik  hadap  \\\n",
              "count   82.000000  182.000000             245        241    231.000000     85   \n",
              "unique        NaN         NaN              46          9           NaN     12   \n",
              "top           NaN         NaN  BSD, TANGERANG        SHM           NaN  Utara   \n",
              "freq          NaN         NaN              27        186           NaN     28   \n",
              "mean     2.024390    1.780220             NaN        NaN   4722.077922    NaN   \n",
              "std      1.684905    1.360876             NaN        NaN   7389.109908    NaN   \n",
              "min      1.000000    1.000000             NaN        NaN    900.000000    NaN   \n",
              "25%      1.000000    1.000000             NaN        NaN   2200.000000    NaN   \n",
              "50%      1.500000    1.000000             NaN        NaN   2200.000000    NaN   \n",
              "75%      2.000000    2.000000             NaN        NaN   4400.000000    NaN   \n",
              "max     10.000000   10.000000             NaN        NaN  66000.000000    NaN   \n",
              "\n",
              "               harga                                                URL  \\\n",
              "count   2.450000e+02                                                245   \n",
              "unique           NaN                                                244   \n",
              "top              NaN  https://www.rumah.com/listing-properti/dijual-...   \n",
              "freq             NaN                                                  2   \n",
              "mean    4.437963e+09                                                NaN   \n",
              "std     1.200940e+10                                                NaN   \n",
              "min     9.500000e+01                                                NaN   \n",
              "25%     1.950000e+03                                                NaN   \n",
              "50%     1.550000e+04                                                NaN   \n",
              "75%     3.400000e+09                                                NaN   \n",
              "max     1.050000e+11                                                NaN   \n",
              "\n",
              "                                                deskripsi         Harga  \n",
              "count                                                 236  2.450000e+02  \n",
              "unique                                                223           NaN  \n",
              "top     Dekat dengan berbagai fasilitas seperti :\\r\\nS...           NaN  \n",
              "freq                                                    8           NaN  \n",
              "mean                                                  NaN  4.437963e+09  \n",
              "std                                                   NaN  1.200940e+10  \n",
              "min                                                   NaN  9.500000e+01  \n",
              "25%                                                   NaN  1.950000e+03  \n",
              "50%                                                   NaN  1.550000e+04  \n",
              "75%                                                   NaN  3.400000e+09  \n",
              "max                                                   NaN  1.050000e+11  "
            ],
            "text/html": [
              "\n",
              "  <div id=\"df-e7397692-d1d9-47ca-9438-8b5703bf4971\">\n",
              "    <div class=\"colab-df-container\">\n",
              "      <div>\n",
              "<style scoped>\n",
              "    .dataframe tbody tr th:only-of-type {\n",
              "        vertical-align: middle;\n",
              "    }\n",
              "\n",
              "    .dataframe tbody tr th {\n",
              "        vertical-align: top;\n",
              "    }\n",
              "\n",
              "    .dataframe thead th {\n",
              "        text-align: right;\n",
              "    }\n",
              "</style>\n",
              "<table border=\"1\" class=\"dataframe\">\n",
              "  <thead>\n",
              "    <tr style=\"text-align: right;\">\n",
              "      <th></th>\n",
              "      <th>created_at</th>\n",
              "      <th>LT</th>\n",
              "      <th>LB</th>\n",
              "      <th>KT</th>\n",
              "      <th>KM</th>\n",
              "      <th>garasi</th>\n",
              "      <th>carport</th>\n",
              "      <th>lokasi</th>\n",
              "      <th>sertifikat</th>\n",
              "      <th>listrik</th>\n",
              "      <th>hadap</th>\n",
              "      <th>harga</th>\n",
              "      <th>URL</th>\n",
              "      <th>deskripsi</th>\n",
              "      <th>Harga</th>\n",
              "    </tr>\n",
              "  </thead>\n",
              "  <tbody>\n",
              "    <tr>\n",
              "      <th>count</th>\n",
              "      <td>245</td>\n",
              "      <td>245.000000</td>\n",
              "      <td>245.000000</td>\n",
              "      <td>245.000000</td>\n",
              "      <td>245.000000</td>\n",
              "      <td>82.000000</td>\n",
              "      <td>182.000000</td>\n",
              "      <td>245</td>\n",
              "      <td>241</td>\n",
              "      <td>231.000000</td>\n",
              "      <td>85</td>\n",
              "      <td>2.450000e+02</td>\n",
              "      <td>245</td>\n",
              "      <td>236</td>\n",
              "      <td>2.450000e+02</td>\n",
              "    </tr>\n",
              "    <tr>\n",
              "      <th>unique</th>\n",
              "      <td>22</td>\n",
              "      <td>NaN</td>\n",
              "      <td>NaN</td>\n",
              "      <td>NaN</td>\n",
              "      <td>NaN</td>\n",
              "      <td>NaN</td>\n",
              "      <td>NaN</td>\n",
              "      <td>46</td>\n",
              "      <td>9</td>\n",
              "      <td>NaN</td>\n",
              "      <td>12</td>\n",
              "      <td>NaN</td>\n",
              "      <td>244</td>\n",
              "      <td>223</td>\n",
              "      <td>NaN</td>\n",
              "    </tr>\n",
              "    <tr>\n",
              "      <th>top</th>\n",
              "      <td>12-06-2021</td>\n",
              "      <td>NaN</td>\n",
              "      <td>NaN</td>\n",
              "      <td>NaN</td>\n",
              "      <td>NaN</td>\n",
              "      <td>NaN</td>\n",
              "      <td>NaN</td>\n",
              "      <td>BSD, TANGERANG</td>\n",
              "      <td>SHM</td>\n",
              "      <td>NaN</td>\n",
              "      <td>Utara</td>\n",
              "      <td>NaN</td>\n",
              "      <td>https://www.rumah.com/listing-properti/dijual-...</td>\n",
              "      <td>Dekat dengan berbagai fasilitas seperti :\\r\\nS...</td>\n",
              "      <td>NaN</td>\n",
              "    </tr>\n",
              "    <tr>\n",
              "      <th>freq</th>\n",
              "      <td>102</td>\n",
              "      <td>NaN</td>\n",
              "      <td>NaN</td>\n",
              "      <td>NaN</td>\n",
              "      <td>NaN</td>\n",
              "      <td>NaN</td>\n",
              "      <td>NaN</td>\n",
              "      <td>27</td>\n",
              "      <td>186</td>\n",
              "      <td>NaN</td>\n",
              "      <td>28</td>\n",
              "      <td>NaN</td>\n",
              "      <td>2</td>\n",
              "      <td>8</td>\n",
              "      <td>NaN</td>\n",
              "    </tr>\n",
              "    <tr>\n",
              "      <th>mean</th>\n",
              "      <td>NaN</td>\n",
              "      <td>224.844898</td>\n",
              "      <td>239.004082</td>\n",
              "      <td>3.804082</td>\n",
              "      <td>3.032653</td>\n",
              "      <td>2.024390</td>\n",
              "      <td>1.780220</td>\n",
              "      <td>NaN</td>\n",
              "      <td>NaN</td>\n",
              "      <td>4722.077922</td>\n",
              "      <td>NaN</td>\n",
              "      <td>4.437963e+09</td>\n",
              "      <td>NaN</td>\n",
              "      <td>NaN</td>\n",
              "      <td>4.437963e+09</td>\n",
              "    </tr>\n",
              "    <tr>\n",
              "      <th>std</th>\n",
              "      <td>NaN</td>\n",
              "      <td>329.023469</td>\n",
              "      <td>277.110345</td>\n",
              "      <td>1.612701</td>\n",
              "      <td>1.549377</td>\n",
              "      <td>1.684905</td>\n",
              "      <td>1.360876</td>\n",
              "      <td>NaN</td>\n",
              "      <td>NaN</td>\n",
              "      <td>7389.109908</td>\n",
              "      <td>NaN</td>\n",
              "      <td>1.200940e+10</td>\n",
              "      <td>NaN</td>\n",
              "      <td>NaN</td>\n",
              "      <td>1.200940e+10</td>\n",
              "    </tr>\n",
              "    <tr>\n",
              "      <th>min</th>\n",
              "      <td>NaN</td>\n",
              "      <td>16.000000</td>\n",
              "      <td>21.000000</td>\n",
              "      <td>1.000000</td>\n",
              "      <td>1.000000</td>\n",
              "      <td>1.000000</td>\n",
              "      <td>1.000000</td>\n",
              "      <td>NaN</td>\n",
              "      <td>NaN</td>\n",
              "      <td>900.000000</td>\n",
              "      <td>NaN</td>\n",
              "      <td>9.500000e+01</td>\n",
              "      <td>NaN</td>\n",
              "      <td>NaN</td>\n",
              "      <td>9.500000e+01</td>\n",
              "    </tr>\n",
              "    <tr>\n",
              "      <th>25%</th>\n",
              "      <td>NaN</td>\n",
              "      <td>90.000000</td>\n",
              "      <td>88.000000</td>\n",
              "      <td>3.000000</td>\n",
              "      <td>2.000000</td>\n",
              "      <td>1.000000</td>\n",
              "      <td>1.000000</td>\n",
              "      <td>NaN</td>\n",
              "      <td>NaN</td>\n",
              "      <td>2200.000000</td>\n",
              "      <td>NaN</td>\n",
              "      <td>1.950000e+03</td>\n",
              "      <td>NaN</td>\n",
              "      <td>NaN</td>\n",
              "      <td>1.950000e+03</td>\n",
              "    </tr>\n",
              "    <tr>\n",
              "      <th>50%</th>\n",
              "      <td>NaN</td>\n",
              "      <td>144.000000</td>\n",
              "      <td>154.000000</td>\n",
              "      <td>3.000000</td>\n",
              "      <td>3.000000</td>\n",
              "      <td>1.500000</td>\n",
              "      <td>1.000000</td>\n",
              "      <td>NaN</td>\n",
              "      <td>NaN</td>\n",
              "      <td>2200.000000</td>\n",
              "      <td>NaN</td>\n",
              "      <td>1.550000e+04</td>\n",
              "      <td>NaN</td>\n",
              "      <td>NaN</td>\n",
              "      <td>1.550000e+04</td>\n",
              "    </tr>\n",
              "    <tr>\n",
              "      <th>75%</th>\n",
              "      <td>NaN</td>\n",
              "      <td>250.000000</td>\n",
              "      <td>300.000000</td>\n",
              "      <td>5.000000</td>\n",
              "      <td>4.000000</td>\n",
              "      <td>2.000000</td>\n",
              "      <td>2.000000</td>\n",
              "      <td>NaN</td>\n",
              "      <td>NaN</td>\n",
              "      <td>4400.000000</td>\n",
              "      <td>NaN</td>\n",
              "      <td>3.400000e+09</td>\n",
              "      <td>NaN</td>\n",
              "      <td>NaN</td>\n",
              "      <td>3.400000e+09</td>\n",
              "    </tr>\n",
              "    <tr>\n",
              "      <th>max</th>\n",
              "      <td>NaN</td>\n",
              "      <td>3422.000000</td>\n",
              "      <td>2500.000000</td>\n",
              "      <td>10.000000</td>\n",
              "      <td>10.000000</td>\n",
              "      <td>10.000000</td>\n",
              "      <td>10.000000</td>\n",
              "      <td>NaN</td>\n",
              "      <td>NaN</td>\n",
              "      <td>66000.000000</td>\n",
              "      <td>NaN</td>\n",
              "      <td>1.050000e+11</td>\n",
              "      <td>NaN</td>\n",
              "      <td>NaN</td>\n",
              "      <td>1.050000e+11</td>\n",
              "    </tr>\n",
              "  </tbody>\n",
              "</table>\n",
              "</div>\n",
              "      <button class=\"colab-df-convert\" onclick=\"convertToInteractive('df-e7397692-d1d9-47ca-9438-8b5703bf4971')\"\n",
              "              title=\"Convert this dataframe to an interactive table.\"\n",
              "              style=\"display:none;\">\n",
              "        \n",
              "  <svg xmlns=\"http://www.w3.org/2000/svg\" height=\"24px\"viewBox=\"0 0 24 24\"\n",
              "       width=\"24px\">\n",
              "    <path d=\"M0 0h24v24H0V0z\" fill=\"none\"/>\n",
              "    <path d=\"M18.56 5.44l.94 2.06.94-2.06 2.06-.94-2.06-.94-.94-2.06-.94 2.06-2.06.94zm-11 1L8.5 8.5l.94-2.06 2.06-.94-2.06-.94L8.5 2.5l-.94 2.06-2.06.94zm10 10l.94 2.06.94-2.06 2.06-.94-2.06-.94-.94-2.06-.94 2.06-2.06.94z\"/><path d=\"M17.41 7.96l-1.37-1.37c-.4-.4-.92-.59-1.43-.59-.52 0-1.04.2-1.43.59L10.3 9.45l-7.72 7.72c-.78.78-.78 2.05 0 2.83L4 21.41c.39.39.9.59 1.41.59.51 0 1.02-.2 1.41-.59l7.78-7.78 2.81-2.81c.8-.78.8-2.07 0-2.86zM5.41 20L4 18.59l7.72-7.72 1.47 1.35L5.41 20z\"/>\n",
              "  </svg>\n",
              "      </button>\n",
              "      \n",
              "  <style>\n",
              "    .colab-df-container {\n",
              "      display:flex;\n",
              "      flex-wrap:wrap;\n",
              "      gap: 12px;\n",
              "    }\n",
              "\n",
              "    .colab-df-convert {\n",
              "      background-color: #E8F0FE;\n",
              "      border: none;\n",
              "      border-radius: 50%;\n",
              "      cursor: pointer;\n",
              "      display: none;\n",
              "      fill: #1967D2;\n",
              "      height: 32px;\n",
              "      padding: 0 0 0 0;\n",
              "      width: 32px;\n",
              "    }\n",
              "\n",
              "    .colab-df-convert:hover {\n",
              "      background-color: #E2EBFA;\n",
              "      box-shadow: 0px 1px 2px rgba(60, 64, 67, 0.3), 0px 1px 3px 1px rgba(60, 64, 67, 0.15);\n",
              "      fill: #174EA6;\n",
              "    }\n",
              "\n",
              "    [theme=dark] .colab-df-convert {\n",
              "      background-color: #3B4455;\n",
              "      fill: #D2E3FC;\n",
              "    }\n",
              "\n",
              "    [theme=dark] .colab-df-convert:hover {\n",
              "      background-color: #434B5C;\n",
              "      box-shadow: 0px 1px 3px 1px rgba(0, 0, 0, 0.15);\n",
              "      filter: drop-shadow(0px 1px 2px rgba(0, 0, 0, 0.3));\n",
              "      fill: #FFFFFF;\n",
              "    }\n",
              "  </style>\n",
              "\n",
              "      <script>\n",
              "        const buttonEl =\n",
              "          document.querySelector('#df-e7397692-d1d9-47ca-9438-8b5703bf4971 button.colab-df-convert');\n",
              "        buttonEl.style.display =\n",
              "          google.colab.kernel.accessAllowed ? 'block' : 'none';\n",
              "\n",
              "        async function convertToInteractive(key) {\n",
              "          const element = document.querySelector('#df-e7397692-d1d9-47ca-9438-8b5703bf4971');\n",
              "          const dataTable =\n",
              "            await google.colab.kernel.invokeFunction('convertToInteractive',\n",
              "                                                     [key], {});\n",
              "          if (!dataTable) return;\n",
              "\n",
              "          const docLinkHtml = 'Like what you see? Visit the ' +\n",
              "            '<a target=\"_blank\" href=https://colab.research.google.com/notebooks/data_table.ipynb>data table notebook</a>'\n",
              "            + ' to learn more about interactive tables.';\n",
              "          element.innerHTML = '';\n",
              "          dataTable['output_type'] = 'display_data';\n",
              "          await google.colab.output.renderOutput(dataTable, element);\n",
              "          const docLink = document.createElement('div');\n",
              "          docLink.innerHTML = docLinkHtml;\n",
              "          element.appendChild(docLink);\n",
              "        }\n",
              "      </script>\n",
              "    </div>\n",
              "  </div>\n",
              "  "
            ]
          },
          "metadata": {},
          "execution_count": 125
        }
      ]
    },
    {
      "cell_type": "code",
      "source": [
        "#Menampilkan grafik Perbandingan Jumlah data Rumah di Tangerang\n",
        "plt.figure(figsize=(16,5))\n",
        "tmp_dT1 = dfT.lokasi.value_counts()\n",
        "tmp_dT1.sort_values().plot(kind=\"bar\", color=['r','g','b','orange'])\n",
        "plt.title(f\"Perbandingan Jumlah Data Rumah Dijual Di Daerah Tangerang\")\n",
        "plt.xlabel(\"Lokasi\")\n",
        "plt.ylabel(f\"Jumlah Rumah\")\n",
        "plt.xticks(rotation=0)\n",
        "plt.tight_layout()\n",
        "plt.show()\n",
        "display(tmp_dT1)"
      ],
      "metadata": {
        "colab": {
          "base_uri": "https://localhost:8080/",
          "height": 1000
        },
        "id": "p-MAVxIGtCLK",
        "outputId": "c395bb96-f699-4f18-82b7-05173f8868c1"
      },
      "execution_count": 124,
      "outputs": [
        {
          "output_type": "display_data",
          "data": {
            "text/plain": [
              "<Figure size 1152x360 with 1 Axes>"
            ],
            "image/png": "[encoded data removed]"
          },
          "metadata": {
            "needs_background": "light"
          }
        },
        {
          "output_type": "display_data",
          "data": {
            "text/plain": [
              "BSD, TANGERANG                      27\n",
              "BSD CITY, TANGERANG                 21\n",
              "GADING SERPONG, TANGERANG            8\n",
              "CISAUK, TANGERANG                    8\n",
              "BSD THE ICON, TANGERANG              6\n",
              "CILEDUG, TANGERANG                   3\n",
              "PONDOK CABE, TANGERANG               3\n",
              "LIPPO KARAWACI, TANGERANG            3\n",
              "CIPONDOH, TANGERANG                  3\n",
              "CIKUPA CITRA JAYA, TANGERANG         3\n",
              "BSD PUSPITA LOKA, TANGERANG          2\n",
              "BANJAR WIJAYA, TANGERANG             2\n",
              "BSD THE GREEN, TANGERANG             2\n",
              "ALAM SUTERA, TANGERANG               2\n",
              "BSD FORESTA, TANGERANG               2\n",
              "BSD EMINENT, TANGERANG               2\n",
              "BSD DELATINOS, TANGERANG             2\n",
              "BSD NUSALOKA, TANGERANG              2\n",
              "BSD PROVANCE PARKLAND, TANGERANG     1\n",
              "MAUK, TANGERANG                      1\n",
              "SEPATAN, TANGERANG                   1\n",
              "RAWAKALONG, TANGERANG                1\n",
              "Poris, Tangerang                     1\n",
              "Pagedangan, Tangerang                1\n",
              "PONDOK JAGUNG, TANGERANG             1\n",
              "BENDA, TANGERANG                     1\n",
              "PINANG, TANGERANG                    1\n",
              "PASAR KEMIS, TANGERANG               1\n",
              "PAGEDANGAN, TANGERANG                1\n",
              "KARAWACI, TANGERANG                  1\n",
              "BSD BUKIT GOLF, TANGERANG            1\n",
              "LEGOK, TANGERANG                     1\n",
              "GRAHA RAYA, TANGERANG                1\n",
              "BSD DE PARK, TANGERANG               1\n",
              "Ciater, Tangerang                    1\n",
              "CITRA MAJA RAYA, TANGERANG           1\n",
              "BSD DUTA BINTARO, TANGERANG          1\n",
              "BSD GREEN WICH, TANGERANG            1\n",
              "BSD GRIYA LOKA, TANGERANG            1\n",
              "BSD Griya Loka, Tangerang            1\n",
              "SERPONG, TANGERANG SELATAN           1\n",
              "Name: lokasi, dtype: int64"
            ]
          },
          "metadata": {}
        }
      ]
    },
    {
      "cell_type": "markdown",
      "source": [
        "Kawasan BSD memiliki jumlah data rumah yang dijual lebih banyak di bandingkan kawasan lain di Tangerang, karena BSD merupakan kawasan titik pusat industri perkantoran, perdagangan, pendidikan, wisata, hingga perumahan. "
      ],
      "metadata": {
        "id": "S6UEqtri4SB_"
      }
    },
    {
      "cell_type": "code",
      "source": [
        "#Menampilkan grafik Perbandingan Jumlah data Rumah di Depok\n",
        "plt.figure(figsize=(16,5))\n",
        "tmp_dD1 = dfD.lokasi.value_counts()\n",
        "tmp_dD1.sort_values().plot(kind=\"bar\", color=['r','g','b','orange'])\n",
        "plt.title(f\"Perbandingan Jumlah Data Rumah Dijual Di Daerah Depok\")\n",
        "plt.xlabel(\"Lokasi\")\n",
        "plt.ylabel(f\"Jumlah Rumah\")\n",
        "plt.xticks(rotation=0)\n",
        "plt.tight_layout()\n",
        "plt.show()\n",
        "display(tmp_dD1)"
      ],
      "metadata": {
        "colab": {
          "base_uri": "https://localhost:8080/",
          "height": 577
        },
        "id": "g4-ECdgmuysd",
        "outputId": "99ff9a72-27d0-45c7-bc6c-721b8b79f159"
      },
      "execution_count": 123,
      "outputs": [
        {
          "output_type": "display_data",
          "data": {
            "text/plain": [
              "<Figure size 1152x360 with 1 Axes>"
            ],
            "image/png": "[encoded data removed]"
          },
          "metadata": {
            "needs_background": "light"
          }
        },
        {
          "output_type": "display_data",
          "data": {
            "text/plain": [
              "Sawangan        30\n",
              "Cimanggis       25\n",
              "Cinere          12\n",
              "Tapos           12\n",
              "Cipayung         9\n",
              "Pancoran Mas     9\n",
              "Sukmajaya        9\n",
              "Beji             5\n",
              "Cilodong         3\n",
              "Bojong Sari      2\n",
              "Limo             2\n",
              "Name: lokasi, dtype: int64"
            ]
          },
          "metadata": {}
        }
      ]
    },
    {
      "cell_type": "markdown",
      "source": [
        "Karena Sawangan merupakan kawasan yang strategis dan sangat mudah dijangkau dari kawasan lainnya seperti Jakarta, Bogor, dan BSD, serta memiliki kondisi alam yang lebih asri. Umumnya rumah yang dijual merupkan perumahan yang baru dan dengan mengutamakan kualitas serta berada di lingkungan asri. Akan tetapi, dijual dengan banderol terjangkau."
      ],
      "metadata": {
        "id": "7X6JNIwe5DfH"
      }
    },
    {
      "cell_type": "code",
      "source": [
        "# Distribusi Harga Rumah Berdasarkan Lokasi Rumah Jakarta\n",
        "j = sns.catplot(x=\"lokasi\", y=\"harga\", data=dfJ)"
      ],
      "metadata": {
        "colab": {
          "base_uri": "https://localhost:8080/",
          "height": 369
        },
        "id": "jCzc6PZswRfv",
        "outputId": "2aa61fac-69d6-49a0-97b3-d0ea7ad980f9"
      },
      "execution_count": 122,
      "outputs": [
        {
          "output_type": "display_data",
          "data": {
            "text/plain": [
              "<Figure size 360x360 with 1 Axes>"
            ],
            "image/png": "[encoded data removed]"
          },
          "metadata": {
            "needs_background": "light"
          }
        }
      ]
    },
    {
      "cell_type": "markdown",
      "source": [
        "Rata-rata kawasan Jakarta Timur memiliki harga yang lebih rendah di bandingkan daerah kawasan lainnya. Maka dari itu kami sarankan untuk membeli rumah di kawasan Jakarta Timur berdasarkan harga yang terendah. "
      ],
      "metadata": {
        "id": "KYO5EfNs6taF"
      }
    },
    {
      "cell_type": "code",
      "source": [
        "# Distribusi Harga Rumah Berdasarkan Lokasi Rumah Tangerang\n",
        "t = sns.catplot(x=\"lokasi\", y=\"harga\", data=dfT)"
      ],
      "metadata": {
        "colab": {
          "base_uri": "https://localhost:8080/",
          "height": 369
        },
        "id": "3s8DFhDmxCKx",
        "outputId": "709a7bd0-104a-48c9-9269-dde3ce093305"
      },
      "execution_count": 121,
      "outputs": [
        {
          "output_type": "display_data",
          "data": {
            "text/plain": [
              "<Figure size 360x360 with 1 Axes>"
            ],
            "image/png": "[encoded data removed]"
          },
          "metadata": {
            "needs_background": "light"
          }
        }
      ]
    },
    {
      "cell_type": "markdown",
      "source": [
        "Harga rumah dikawasan Tangerang terbilang cukup rendah karena kawasan tersebut masih dalam tahap pembangunan perumahan."
      ],
      "metadata": {
        "id": "X3b4uCNDzXQV"
      }
    },
    {
      "cell_type": "code",
      "source": [
        "# Distribusi Harga Rumah Berdasarkan Lokasi Rumah Depok\n",
        "d = sns.catplot(x=\"lokasi\", y=\"harga\", data=dfD)"
      ],
      "metadata": {
        "colab": {
          "base_uri": "https://localhost:8080/",
          "height": 369
        },
        "id": "rZpBoShrxFa-",
        "outputId": "b1eb123b-512e-4ffa-efb9-96e5d634d2fb"
      },
      "execution_count": 120,
      "outputs": [
        {
          "output_type": "display_data",
          "data": {
            "text/plain": [
              "<Figure size 360x360 with 1 Axes>"
            ],
            "image/png": "[encoded data removed]"
          },
          "metadata": {
            "needs_background": "light"
          }
        }
      ]
    },
    {
      "cell_type": "markdown",
      "source": [
        "harga rumah di depok lebih bervariasi di bandingkan daerah jakarta ataupun tangerang. "
      ],
      "metadata": {
        "id": "zErU46IhxSFJ"
      }
    },
    {
      "cell_type": "code",
      "source": [
        "# Distribusi Luas Bangunan Berdasarkan Lokasi Rumah\n",
        "p = sns.catplot(x=\"lokasi\", y=\"LB\", data=dfJ)"
      ],
      "metadata": {
        "colab": {
          "base_uri": "https://localhost:8080/",
          "height": 369
        },
        "id": "ImH6CWnByHy3",
        "outputId": "de5de24a-c92a-4491-c358-324bf837d047"
      },
      "execution_count": 119,
      "outputs": [
        {
          "output_type": "display_data",
          "data": {
            "text/plain": [
              "<Figure size 360x360 with 1 Axes>"
            ],
            "image/png": "[encoded data removed]"
          },
          "metadata": {
            "needs_background": "light"
          }
        }
      ]
    },
    {
      "cell_type": "markdown",
      "source": [
        "Karena Jakarta Timur merupakan kawasan yang memiliki penduduk terbanyak sehingga luas bangunan rumah tidak terlalu besar dan bahkan mungkin cukup kecil maka Jakarta Timur memilki luas bangunan yang lebih kecil dibandingkan kawasan lain. "
      ],
      "metadata": {
        "id": "Yquu-vSOyZ_L"
      }
    },
    {
      "cell_type": "markdown",
      "source": [
        "# Kesimpulan"
      ],
      "metadata": {
        "id": "5Q4_qE0Hfk0H"
      }
    },
    {
      "cell_type": "markdown",
      "source": [
        "\n",
        "*   Berdasarkan preprocessing data yang telah diolah, perusahaan memiliki kualitas data yang akurat dan bervariasi.\n",
        "\n",
        "*   Dari data yang ada, terdapat kecenderungan rumah disuatu kota lebih mahal/murah dibandingkan kota lain yaitu rumah dengan harga senilai 1.050000e+11 dikarenakan luas tanah, luas bangunan, kamar tidur dan kamar mandi memiliki keunggulan dibandingkan rumah lainnya.\n",
        "\n",
        "\n",
        "*   Rumah yang paling banyak dijual yaitu rumah yang berlokasi di BSD CITY Tangerang dan Sawangan dengan karakteristik luas tanah yang tidak terlalu besar, listrik tidak terlalu mahal, harga terjangkau dan memiliki akses yang mudah.\n",
        "\n",
        "*   Rekomendasi rumah yang akan berpotensi menghasilkan keuntungan bagi perusahaan jika RPPI ingin melakukan investasi (max) Rp. 25 Milyar minggu besok adalah BSD CITY Tangerang.\n",
        "\n",
        "\n",
        "- Rumah di kawasan Jakarta Pusat memiliki harga yang tinggi.\n",
        "- Rumah dengan karakteristik seperti memiliki SHM, kawasan yang memiliki rumah beserta SHM paling banyak di Depok dan memiliki LT yang besar, kawasan yang memiliki LT yang besar di daerah Jakarta Pusat.\n",
        "- Jika perusahaan memiliki dana yang sedikit disarankan untuk membeli rumah di kawasan jakarta Timur karna kawasan tersebut cenderung memiliki harga yang rendah, dan jika perusahaan memiliki dana yang cukup banyak disarankan untuk membeli rumah di kawasan BSD, Tangerang karna kawasan tersebut memiliki harga yang tinggi dan kawasan tersebut sangat strategis.\n",
        "\n",
        "\n",
        "\n"
      ],
      "metadata": {
        "id": "1r-kw6a42Jhk"
      }
    }
  ]
}